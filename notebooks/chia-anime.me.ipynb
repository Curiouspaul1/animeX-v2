{
 "cells": [
  {
   "cell_type": "code",
   "execution_count": 1,
   "metadata": {},
   "outputs": [],
   "source": [
    "import requests\n",
    "from bs4 import BeautifulSoup"
   ]
  },
  {
   "cell_type": "code",
   "execution_count": 2,
   "metadata": {},
   "outputs": [
    {
     "data": {
      "text/plain": [
       "[{'name': 'Onigiri (TV)', 'url': 'http://www.chia-anime.me/episode/onigiri/'},\n",
       " {'name': 'Kimetsu no Yaiba (TV)',\n",
       "  'url': 'http://www.chia-anime.me/episode/kimetsu-no-yaiba/'},\n",
       " {'name': 'Kimetsu no Yaiba (TV)',\n",
       "  'url': 'http://www.chia-anime.me/episode/kimetsu-no-yaiba/'}]"
      ]
     },
     "execution_count": 2,
     "metadata": {},
     "output_type": "execute_result"
    }
   ],
   "source": [
    "def get_search_result(search_item):\n",
    "    search_url = \"http://www.chia-anime.me/mysearch.php\"\n",
    "    params = {\n",
    "        \"search\": search_item\n",
    "    }\n",
    "    r = requests.get(search_url, params=params)\n",
    "    search_result_html = BeautifulSoup(r.text)\n",
    "    \n",
    "    search_result = []\n",
    "    for i in search_result_html.findAll(\"a\"):\n",
    "        if i.text != \"\":\n",
    "            search_result.append({\n",
    "                \"name\": i.text,\n",
    "                \"url\": i[\"href\"]\n",
    "            })\n",
    "    return search_result\n",
    "get_search_result(\"demon slayer\")"
   ]
  },
  {
   "cell_type": "code",
   "execution_count": 3,
   "metadata": {},
   "outputs": [
    {
     "data": {
      "text/plain": [
       "['http://www.chia-anime.me/kimetsu-no-yaiba-episode-1-english-subbed/',\n",
       " 'http://www.chia-anime.me/kimetsu-no-yaiba-episode-2-english-subbed/',\n",
       " 'http://www.chia-anime.me/kimetsu-no-yaiba-episode-3-english-subbed/',\n",
       " 'http://www.chia-anime.me/kimetsu-no-yaiba-episode-4-english-subbed/',\n",
       " 'http://www.chia-anime.me/kimetsu-no-yaiba-episode-5-english-subbed/',\n",
       " 'http://www.chia-anime.me/kimetsu-no-yaiba-episode-6-english-subbed/',\n",
       " 'http://www.chia-anime.me/kimetsu-no-yaiba-episode-7-english-subbed/',\n",
       " 'http://www.chia-anime.me/kimetsu-no-yaiba-episode-8-english-subbed/',\n",
       " 'http://www.chia-anime.me/kimetsu-no-yaiba-episode-9-english-subbed/',\n",
       " 'http://www.chia-anime.me/kimetsu-no-yaiba-episode-10-english-subbed/',\n",
       " 'http://www.chia-anime.me/kimetsu-no-yaiba-episode-11-english-subbed/',\n",
       " 'http://www.chia-anime.me/kimetsu-no-yaiba-episode-12-english-subbed/',\n",
       " 'http://www.chia-anime.me/kimetsu-no-yaiba-episode-13-english-subbed/',\n",
       " 'http://www.chia-anime.me/kimetsu-no-yaiba-episode-14-english-subbed/',\n",
       " 'http://www.chia-anime.me/kimetsu-no-yaiba-episode-15-english-subbed/',\n",
       " 'http://www.chia-anime.me/kimetsu-no-yaiba-episode-16-english-subbed/',\n",
       " 'http://www.chia-anime.me/kimetsu-no-yaiba-episode-17-english-subbed/',\n",
       " 'http://www.chia-anime.me/kimetsu-no-yaiba-episode-18-english-subbed/',\n",
       " 'http://www.chia-anime.me/kimetsu-no-yaiba-episode-19-english-subbed/',\n",
       " 'http://www.chia-anime.me/kimetsu-no-yaiba-episode-20-english-subbed/',\n",
       " 'http://www.chia-anime.me/kimetsu-no-yaiba-episode-21-english-subbed/',\n",
       " 'http://www.chia-anime.me/kimetsu-no-yaiba-episode-22-english-subbed/',\n",
       " 'http://www.chia-anime.me/kimetsu-no-yaiba-episode-23-english-subbed/',\n",
       " 'http://www.chia-anime.me/kimetsu-no-yaiba-episode-24-english-subbed/',\n",
       " 'http://www.chia-anime.me/kimetsu-no-yaiba-episode-25-english-subbed/',\n",
       " 'http://www.chia-anime.me/kimetsu-no-yaiba-episode-26-english-subbed/']"
      ]
     },
     "execution_count": 3,
     "metadata": {},
     "output_type": "execute_result"
    }
   ],
   "source": [
    "def get_anime_episodes(anime_url):\n",
    "    r = requests.get(anime_url)\n",
    "    anime_result = BeautifulSoup(r.text)\n",
    "    anime_section = anime_result.find(\"div\", {\"id\": \"countrydivcontainer\"})\n",
    "    \n",
    "    episodes = []\n",
    "    for i in anime_section.findAll(\"a\", {\"itemprop\": \"url\"}):\n",
    "        episodes.append(i[\"href\"])\n",
    "    return episodes[::-1]\n",
    "get_anime_episodes(\"http://www.chia-anime.me/episode/kimetsu-no-yaiba/\")"
   ]
  },
  {
   "cell_type": "code",
   "execution_count": 5,
   "metadata": {},
   "outputs": [
    {
     "data": {
      "text/plain": [
       "'http://download.animepremium.tv/video/103901'"
      ]
     },
     "execution_count": 5,
     "metadata": {},
     "output_type": "execute_result"
    }
   ],
   "source": [
    "def get_download_url(anime_url):\n",
    "    r = requests.get(anime_url)\n",
    "    anime_page = BeautifulSoup(r.text)\n",
    "    download_url = anime_page.find(\"a\", {\"id\": \"download\"})[\"href\"]\n",
    "    return download_url\n",
    "get_download_url(\"http://www.chia-anime.me/kimetsu-no-yaiba-episode-25-english-subbed/\")"
   ]
  },
  {
   "cell_type": "code",
   "execution_count": null,
   "metadata": {},
   "outputs": [],
   "source": []
  }
 ],
 "metadata": {
  "kernelspec": {
   "display_name": "Python 3",
   "language": "python",
   "name": "python3"
  },
  "language_info": {
   "codemirror_mode": {
    "name": "ipython",
    "version": 3
   },
   "file_extension": ".py",
   "mimetype": "text/x-python",
   "name": "python",
   "nbconvert_exporter": "python",
   "pygments_lexer": "ipython3",
   "version": "3.7.5"
  }
 },
 "nbformat": 4,
 "nbformat_minor": 4
}
